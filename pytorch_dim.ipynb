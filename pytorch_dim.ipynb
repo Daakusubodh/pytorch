{
  "nbformat": 4,
  "nbformat_minor": 0,
  "metadata": {
    "colab": {
      "provenance": [],
      "gpuType": "T4"
    },
    "kernelspec": {
      "name": "python3",
      "display_name": "Python 3"
    },
    "language_info": {
      "name": "python"
    },
    "accelerator": "GPU"
  },
  "cells": [
    {
      "cell_type": "code",
      "execution_count": 1,
      "metadata": {
        "id": "jUJjiggJ_0sE"
      },
      "outputs": [],
      "source": [
        "import torch"
      ]
    },
    {
      "cell_type": "markdown",
      "source": [
        "Basic Manipulation"
      ],
      "metadata": {
        "id": "PMTGqSTlApJN"
      }
    },
    {
      "cell_type": "code",
      "source": [
        "lst = list(range(10))\n",
        "print(f\"list:{lst}\")\n",
        "\n",
        "a= torch.tensor(lst)\n",
        "print(f\"torch tensor:{a}\")"
      ],
      "metadata": {
        "colab": {
          "base_uri": "https://localhost:8080/"
        },
        "id": "l3IKMO8aAnpM",
        "outputId": "f10d6117-7dbc-416f-e169-6da0badae86b"
      },
      "execution_count": 3,
      "outputs": [
        {
          "output_type": "stream",
          "name": "stdout",
          "text": [
            "list:[0, 1, 2, 3, 4, 5, 6, 7, 8, 9]\n",
            "torch tensor:tensor([0, 1, 2, 3, 4, 5, 6, 7, 8, 9])\n"
          ]
        }
      ]
    },
    {
      "cell_type": "markdown",
      "source": [
        "Creating a 2D tensor (matrix)"
      ],
      "metadata": {
        "id": "76ph-YHWBNVs"
      }
    },
    {
      "cell_type": "code",
      "source": [
        "tensor_2d = torch.tensor([[1,2,3],\n",
        "                          [4,5,6]])\n",
        "print(tensor_2d)\n",
        "print(f\"dimensions: {tensor_2d.ndimension()}\")\n",
        "print(f\"shape: {tensor_2d.shape}\")\n",
        "print(f\"size: {tensor_2d.size()}\")"
      ],
      "metadata": {
        "colab": {
          "base_uri": "https://localhost:8080/"
        },
        "id": "szHvwj4iA8ff",
        "outputId": "59bbb330-a897-449e-a361-cff2c6ec61ba"
      },
      "execution_count": 10,
      "outputs": [
        {
          "output_type": "stream",
          "name": "stdout",
          "text": [
            "tensor([[1, 2, 3],\n",
            "        [4, 5, 6]])\n",
            "dimensions: 2\n",
            "shape: torch.Size([2, 3])\n",
            "size: torch.Size([2, 3])\n"
          ]
        }
      ]
    },
    {
      "cell_type": "markdown",
      "source": [
        "Creating a 3D tensor"
      ],
      "metadata": {
        "id": "WQXmK-hECDs9"
      }
    },
    {
      "cell_type": "code",
      "source": [
        "tensor_3d = torch.tensor([[[1,2,3],\n",
        "                          [4,5,6]],\n",
        "                          [[6,7,8],\n",
        "                           [9,10,11]],\n",
        "                          [[4,5,6],\n",
        "                           [7,8,9]]])\n",
        "print(tensor_3d)\n",
        "print(f\"dimensions: {tensor_3d.ndimension()}\")\n",
        "print(f\"shape: {tensor_3d.shape}\")\n",
        "print(f\"size: {tensor_3d.size()}\")"
      ],
      "metadata": {
        "colab": {
          "base_uri": "https://localhost:8080/"
        },
        "id": "xyBRXtNrBkRs",
        "outputId": "9bd38948-21fe-46d6-91db-7ab0664a10de"
      },
      "execution_count": 15,
      "outputs": [
        {
          "output_type": "stream",
          "name": "stdout",
          "text": [
            "tensor([[[ 1,  2,  3],\n",
            "         [ 4,  5,  6]],\n",
            "\n",
            "        [[ 6,  7,  8],\n",
            "         [ 9, 10, 11]],\n",
            "\n",
            "        [[ 4,  5,  6],\n",
            "         [ 7,  8,  9]]])\n",
            "dimensions: 3\n",
            "shape: torch.Size([3, 2, 3])\n",
            "size: torch.Size([3, 2, 3])\n"
          ]
        }
      ]
    },
    {
      "cell_type": "code",
      "source": [
        "torch_4d = torch.tensor([[[[1,2,3],\n",
        "                           [4,5,6]],\n",
        "                           [[1,2,3],\n",
        "                            [4,5,6]],\n",
        "                          [[1,2,3],\n",
        "                           [4,5,6]]]])\n",
        "print(torch_4d)\n",
        "print(f\"dimensions: {torch_4d.ndimension()}\")\n",
        "print(f\"shape: {torch_4d.shape}\")\n",
        "print(f\"size: {torch_4d.size()}\")"
      ],
      "metadata": {
        "colab": {
          "base_uri": "https://localhost:8080/"
        },
        "id": "4wUYliioDTB1",
        "outputId": "e0c0a2b9-9231-40bf-ead5-d2a30e255ff7"
      },
      "execution_count": 16,
      "outputs": [
        {
          "output_type": "stream",
          "name": "stdout",
          "text": [
            "tensor([[[[1, 2, 3],\n",
            "          [4, 5, 6]],\n",
            "\n",
            "         [[1, 2, 3],\n",
            "          [4, 5, 6]],\n",
            "\n",
            "         [[1, 2, 3],\n",
            "          [4, 5, 6]]]])\n",
            "dimensions: 4\n",
            "shape: torch.Size([1, 3, 2, 3])\n",
            "size: torch.Size([1, 3, 2, 3])\n"
          ]
        }
      ]
    },
    {
      "cell_type": "code",
      "source": [],
      "metadata": {
        "id": "nRmMnGcNHcO1"
      },
      "execution_count": null,
      "outputs": []
    }
  ]
}