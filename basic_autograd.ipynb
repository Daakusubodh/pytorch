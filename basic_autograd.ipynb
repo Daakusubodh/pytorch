{
  "nbformat": 4,
  "nbformat_minor": 0,
  "metadata": {
    "colab": {
      "provenance": []
    },
    "kernelspec": {
      "name": "python3",
      "display_name": "Python 3"
    },
    "language_info": {
      "name": "python"
    }
  },
  "cells": [
    {
      "cell_type": "code",
      "execution_count": 12,
      "metadata": {
        "id": "vd9JBRBjFF6L"
      },
      "outputs": [],
      "source": [
        "import torch\n",
        "import torchvision\n",
        "import torch.nn as nn\n",
        "import numpy as np\n",
        "import torchvision.transforms as transforms"
      ]
    },
    {
      "cell_type": "markdown",
      "source": [
        "#Basic Autograd"
      ],
      "metadata": {
        "id": "CsKFkiGFFmXs"
      }
    },
    {
      "cell_type": "markdown",
      "source": [
        "Create Tensors"
      ],
      "metadata": {
        "id": "233wouz4GaIK"
      }
    },
    {
      "cell_type": "code",
      "source": [
        "x = torch.tensor(1., requires_grad=True)\n",
        "w = torch.tensor(2., requires_grad=True)\n",
        "b = torch.tensor(3., requires_grad=True)"
      ],
      "metadata": {
        "id": "zNI1jSFNFoPw"
      },
      "execution_count": 13,
      "outputs": []
    },
    {
      "cell_type": "markdown",
      "source": [
        "Build Computational Graph"
      ],
      "metadata": {
        "id": "w7wIbeAmGQ7-"
      }
    },
    {
      "cell_type": "code",
      "source": [
        "y = w*x + b"
      ],
      "metadata": {
        "id": "M2EkrNlvF0v2"
      },
      "execution_count": 14,
      "outputs": []
    },
    {
      "cell_type": "markdown",
      "source": [
        "Compute Gradients\n"
      ],
      "metadata": {
        "id": "gM05xXyCGJju"
      }
    },
    {
      "cell_type": "code",
      "source": [
        "y.backward()"
      ],
      "metadata": {
        "id": "ztiO_B0mGr0M"
      },
      "execution_count": 15,
      "outputs": []
    },
    {
      "cell_type": "markdown",
      "source": [
        "Print out the gradients"
      ],
      "metadata": {
        "id": "v-P3LQFBGtsH"
      }
    },
    {
      "cell_type": "code",
      "source": [
        "print(x.grad)\n",
        "print(w.grad)\n",
        "print(b.grad)"
      ],
      "metadata": {
        "colab": {
          "base_uri": "https://localhost:8080/"
        },
        "id": "w50zcPHrHF_U",
        "outputId": "f63bb3ca-172a-4c1d-f755-cd78cf3c6a86"
      },
      "execution_count": 16,
      "outputs": [
        {
          "output_type": "stream",
          "name": "stdout",
          "text": [
            "tensor(2.)\n",
            "tensor(1.)\n",
            "tensor(1.)\n"
          ]
        }
      ]
    },
    {
      "cell_type": "code",
      "source": [
        "x= torch.rand(10,3)\n",
        "y= torch.rand(10,2)"
      ],
      "metadata": {
        "id": "oBNM2lXnHK4I"
      },
      "execution_count": 17,
      "outputs": []
    },
    {
      "cell_type": "markdown",
      "source": [
        "Build a fully connected layer"
      ],
      "metadata": {
        "id": "p8NldaXGIc7a"
      }
    },
    {
      "cell_type": "code",
      "source": [
        "linear = nn.Linear(3,2)\n",
        "print('w: ', linear.weight)\n",
        "print('b: ', linear.bias)"
      ],
      "metadata": {
        "colab": {
          "base_uri": "https://localhost:8080/"
        },
        "id": "tu9GjlFfIHvx",
        "outputId": "1b89c785-9dc4-426b-81ea-e14da46dd791"
      },
      "execution_count": 19,
      "outputs": [
        {
          "output_type": "stream",
          "name": "stdout",
          "text": [
            "w:  Parameter containing:\n",
            "tensor([[-0.2112,  0.3035, -0.4588],\n",
            "        [ 0.0527,  0.5739, -0.5426]], requires_grad=True)\n",
            "b:  Parameter containing:\n",
            "tensor([-0.4052,  0.0736], requires_grad=True)\n"
          ]
        }
      ]
    },
    {
      "cell_type": "markdown",
      "source": [
        "Build loss function and optimizer"
      ],
      "metadata": {
        "id": "T_xSYIZKI6UP"
      }
    },
    {
      "cell_type": "code",
      "source": [
        "criterion = nn.MSELoss()\n",
        "optimizer = torch.optim.SGD(linear.parameters(), lr=0.01)"
      ],
      "metadata": {
        "id": "51ITyeSIIJhX"
      },
      "execution_count": 20,
      "outputs": []
    },
    {
      "cell_type": "markdown",
      "source": [
        "Forward pass"
      ],
      "metadata": {
        "id": "-xsm5c3LJgjh"
      }
    },
    {
      "cell_type": "code",
      "source": [
        "pred = linear(x)"
      ],
      "metadata": {
        "id": "4USjZ5sXJRAt"
      },
      "execution_count": 21,
      "outputs": []
    },
    {
      "cell_type": "markdown",
      "source": [
        "Compute loss"
      ],
      "metadata": {
        "id": "bABWWB6MJqn1"
      }
    },
    {
      "cell_type": "code",
      "source": [
        "loss = criterion(pred, y)\n",
        "print('loss: ', loss.item())"
      ],
      "metadata": {
        "colab": {
          "base_uri": "https://localhost:8080/"
        },
        "id": "nP1nufs6J6MU",
        "outputId": "69505ccc-401e-4ca1-e797-50822e4be599"
      },
      "execution_count": 22,
      "outputs": [
        {
          "output_type": "stream",
          "name": "stdout",
          "text": [
            "loss:  0.9284096956253052\n"
          ]
        }
      ]
    },
    {
      "cell_type": "markdown",
      "source": [
        "Backward pass"
      ],
      "metadata": {
        "id": "g4FjfaTbKCV-"
      }
    },
    {
      "cell_type": "code",
      "source": [
        "loss.backward()"
      ],
      "metadata": {
        "id": "aLK1gtudKK0R"
      },
      "execution_count": 23,
      "outputs": []
    },
    {
      "cell_type": "code",
      "source": [
        "print('dL/dw: ', linear.weight.grad)\n",
        "print('dL/db: ', linear.bias.grad)"
      ],
      "metadata": {
        "colab": {
          "base_uri": "https://localhost:8080/"
        },
        "id": "9h1T5umcKNoi",
        "outputId": "fb69da6f-f302-4d24-c426-13b6b5665191"
      },
      "execution_count": 24,
      "outputs": [
        {
          "output_type": "stream",
          "name": "stdout",
          "text": [
            "dL/dw:  tensor([[-0.5288, -0.4387, -0.6429],\n",
            "        [-0.1783, -0.0848, -0.2034]])\n",
            "dL/db:  tensor([-1.1939, -0.4284])\n"
          ]
        }
      ]
    },
    {
      "cell_type": "markdown",
      "source": [
        "1-step gradient descent"
      ],
      "metadata": {
        "id": "AM5u6mDWKiTm"
      }
    },
    {
      "cell_type": "code",
      "source": [
        "optimizer.step()"
      ],
      "metadata": {
        "id": "5fvvQdNtKz6a"
      },
      "execution_count": 25,
      "outputs": []
    },
    {
      "cell_type": "code",
      "source": [
        "pred= linear(x)\n",
        "loss= criterion(pred, y)\n",
        "print('loss after 1 step optimization:', loss.item())"
      ],
      "metadata": {
        "colab": {
          "base_uri": "https://localhost:8080/"
        },
        "id": "fS8A-YkPK1hC",
        "outputId": "0931b8d0-6b77-4406-e923-8c6951fea00b"
      },
      "execution_count": 26,
      "outputs": [
        {
          "output_type": "stream",
          "name": "stdout",
          "text": [
            "loss after 1 step optimization: 0.9028765559196472\n"
          ]
        }
      ]
    },
    {
      "cell_type": "code",
      "source": [],
      "metadata": {
        "id": "0a_UU3ZFLGRB"
      },
      "execution_count": null,
      "outputs": []
    }
  ]
}