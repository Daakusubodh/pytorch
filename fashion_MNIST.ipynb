{
  "nbformat": 4,
  "nbformat_minor": 0,
  "metadata": {
    "colab": {
      "provenance": [],
      "gpuType": "T4"
    },
    "kernelspec": {
      "name": "python3",
      "display_name": "Python 3"
    },
    "language_info": {
      "name": "python"
    },
    "accelerator": "GPU"
  },
  "cells": [
    {
      "cell_type": "code",
      "execution_count": 15,
      "metadata": {
        "id": "jUJjiggJ_0sE"
      },
      "outputs": [],
      "source": [
        "import torch"
      ]
    },
    {
      "cell_type": "markdown",
      "source": [
        "Basic Manipulation"
      ],
      "metadata": {
        "id": "PMTGqSTlApJN"
      }
    },
    {
      "cell_type": "code",
      "source": [
        "lst = list(range(10))\n",
        "print(f\"list:{lst}\")\n",
        "\n",
        "a= torch.tensor(lst)\n",
        "print(f\"torch tensor:{a}\")"
      ],
      "metadata": {
        "colab": {
          "base_uri": "https://localhost:8080/"
        },
        "id": "l3IKMO8aAnpM",
        "outputId": "7fa1218b-b5e2-4cac-c122-6f558b6526d6"
      },
      "execution_count": 16,
      "outputs": [
        {
          "output_type": "stream",
          "name": "stdout",
          "text": [
            "list:[0, 1, 2, 3, 4, 5, 6, 7, 8, 9]\n",
            "torch tensor:tensor([0, 1, 2, 3, 4, 5, 6, 7, 8, 9])\n"
          ]
        }
      ]
    },
    {
      "cell_type": "markdown",
      "source": [
        "Creating a 2D tensor (matrix)"
      ],
      "metadata": {
        "id": "76ph-YHWBNVs"
      }
    },
    {
      "cell_type": "code",
      "source": [
        "tensor_2d = torch.tensor([[1,2,3],\n",
        "                          [4,5,6]])\n",
        "print(tensor_2d)\n",
        "print(f\"dimensions: {tensor_2d.ndimension()}\")\n",
        "print(f\"shape: {tensor_2d.shape}\")\n",
        "print(f\"size: {tensor_2d.size()}\")"
      ],
      "metadata": {
        "colab": {
          "base_uri": "https://localhost:8080/"
        },
        "id": "szHvwj4iA8ff",
        "outputId": "f3c4dd47-c2e4-45cf-a66b-aede76cd88e8"
      },
      "execution_count": 17,
      "outputs": [
        {
          "output_type": "stream",
          "name": "stdout",
          "text": [
            "tensor([[1, 2, 3],\n",
            "        [4, 5, 6]])\n",
            "dimensions: 2\n",
            "shape: torch.Size([2, 3])\n",
            "size: torch.Size([2, 3])\n"
          ]
        }
      ]
    },
    {
      "cell_type": "markdown",
      "source": [
        "Creating a 3D tensor"
      ],
      "metadata": {
        "id": "WQXmK-hECDs9"
      }
    },
    {
      "cell_type": "code",
      "source": [
        "tensor_3d = torch.tensor([[[1,2,3],\n",
        "                          [4,5,6]],\n",
        "                          [[6,7,8],\n",
        "                           [9,10,11]],\n",
        "                          [[4,5,6],\n",
        "                           [7,8,9]]])\n",
        "print(tensor_3d)\n",
        "print(f\"dimensions: {tensor_3d.ndimension()}\")\n",
        "print(f\"shape: {tensor_3d.shape}\")\n",
        "print(f\"size: {tensor_3d.size()}\")"
      ],
      "metadata": {
        "colab": {
          "base_uri": "https://localhost:8080/"
        },
        "id": "xyBRXtNrBkRs",
        "outputId": "54891cfb-a2a9-4ada-82e9-33ec08516623"
      },
      "execution_count": 18,
      "outputs": [
        {
          "output_type": "stream",
          "name": "stdout",
          "text": [
            "tensor([[[ 1,  2,  3],\n",
            "         [ 4,  5,  6]],\n",
            "\n",
            "        [[ 6,  7,  8],\n",
            "         [ 9, 10, 11]],\n",
            "\n",
            "        [[ 4,  5,  6],\n",
            "         [ 7,  8,  9]]])\n",
            "dimensions: 3\n",
            "shape: torch.Size([3, 2, 3])\n",
            "size: torch.Size([3, 2, 3])\n"
          ]
        }
      ]
    },
    {
      "cell_type": "code",
      "source": [
        "torch_4d = torch.tensor([[[[1,2,3],\n",
        "                           [4,5,6]],\n",
        "                           [[1,2,3],\n",
        "                            [4,5,6]],\n",
        "                          [[1,2,3],\n",
        "                           [4,5,6]]]])\n",
        "print(torch_4d)\n",
        "print(f\"dimensions: {torch_4d.ndimension()}\")\n",
        "print(f\"shape: {torch_4d.shape}\")\n",
        "print(f\"size: {torch_4d.size()}\")"
      ],
      "metadata": {
        "colab": {
          "base_uri": "https://localhost:8080/"
        },
        "id": "4wUYliioDTB1",
        "outputId": "a07c8438-dc1e-4f3a-9d53-26ab9fee65b1"
      },
      "execution_count": 19,
      "outputs": [
        {
          "output_type": "stream",
          "name": "stdout",
          "text": [
            "tensor([[[[1, 2, 3],\n",
            "          [4, 5, 6]],\n",
            "\n",
            "         [[1, 2, 3],\n",
            "          [4, 5, 6]],\n",
            "\n",
            "         [[1, 2, 3],\n",
            "          [4, 5, 6]]]])\n",
            "dimensions: 4\n",
            "shape: torch.Size([1, 3, 2, 3])\n",
            "size: torch.Size([1, 3, 2, 3])\n"
          ]
        }
      ]
    },
    {
      "cell_type": "code",
      "source": [
        "from torch import nn\n",
        "from torch.utils.data import DataLoader\n",
        "from torchvision import datasets\n",
        "from torchvision.transforms import ToTensor"
      ],
      "metadata": {
        "id": "nRmMnGcNHcO1"
      },
      "execution_count": 20,
      "outputs": []
    },
    {
      "cell_type": "code",
      "source": [
        "training_data = datasets.FashionMNIST(\n",
        "    root = \"data\",\n",
        "    train=True,\n",
        "    download=True,\n",
        "    transform=ToTensor(),\n",
        ")\n",
        "\n",
        "test_data = datasets.FashionMNIST(\n",
        "    root=\"data\",\n",
        "    train=False,\n",
        "    download=True,\n",
        "    transform=ToTensor(),\n",
        ")"
      ],
      "metadata": {
        "id": "24oESONAYxtL"
      },
      "execution_count": 21,
      "outputs": []
    },
    {
      "cell_type": "code",
      "source": [
        "batch_size = 64\n",
        "\n",
        "train_dataloader = DataLoader(training_data, batch_size=batch_size)\n",
        "test_dataloader = DataLoader(test_data, batch_size=batch_size)\n",
        "\n",
        "for X, y in test_dataloader:\n",
        "  print(f\"Shape of X[N, C, H, W]: {X.shape}\")\n",
        "  print(f\"Shape of y: {y.shape} {y.dtype}\")\n",
        "  break"
      ],
      "metadata": {
        "colab": {
          "base_uri": "https://localhost:8080/"
        },
        "id": "eic9KnG8ahJO",
        "outputId": "8d7a7c71-5a94-4495-ba59-efe0cb846bba"
      },
      "execution_count": 22,
      "outputs": [
        {
          "output_type": "stream",
          "name": "stdout",
          "text": [
            "Shape of X[N, C, H, W]: torch.Size([64, 1, 28, 28])\n",
            "Shape of y: torch.Size([64]) torch.int64\n"
          ]
        }
      ]
    },
    {
      "cell_type": "markdown",
      "source": [
        "Creating Models"
      ],
      "metadata": {
        "id": "Zg0CKbvjxlEk"
      }
    },
    {
      "cell_type": "code",
      "source": [
        "device = (\n",
        "    \"cuda\"\n",
        "    if torch.cuda.is_available()\n",
        "    else \"mps\"\n",
        "    if torch.backends.mps.is_available()\n",
        "    else \"cpu\"\n",
        ")\n",
        "print(f\"Using {device} device\")\n",
        "\n",
        "#define model\n",
        "class NeuralNetwork(nn.Module):\n",
        "  def __init__(self):\n",
        "    super().__init__()\n",
        "    self.flatten = nn.Flatten()\n",
        "    self.linear_relu_stack = nn.Sequential(\n",
        "        nn.Linear(28*28, 512),\n",
        "        nn.ReLU(),\n",
        "        nn.Linear(512, 512),\n",
        "        nn.ReLU(),\n",
        "        nn.Linear(512, 10)\n",
        "    )\n",
        "\n",
        "  def forward(self, x):\n",
        "    x= self.flatten(x)\n",
        "    logits = self.linear_relu_stack(x)\n",
        "    return logits\n",
        "\n",
        "model = NeuralNetwork().to(device)\n",
        "print(model)\n"
      ],
      "metadata": {
        "colab": {
          "base_uri": "https://localhost:8080/"
        },
        "id": "JwPaRyGHeFxt",
        "outputId": "70218448-3198-4c55-9c9a-a732a94d77e5"
      },
      "execution_count": 23,
      "outputs": [
        {
          "output_type": "stream",
          "name": "stdout",
          "text": [
            "Using cuda device\n",
            "NeuralNetwork(\n",
            "  (flatten): Flatten(start_dim=1, end_dim=-1)\n",
            "  (linear_relu_stack): Sequential(\n",
            "    (0): Linear(in_features=784, out_features=512, bias=True)\n",
            "    (1): ReLU()\n",
            "    (2): Linear(in_features=512, out_features=512, bias=True)\n",
            "    (3): ReLU()\n",
            "    (4): Linear(in_features=512, out_features=10, bias=True)\n",
            "  )\n",
            ")\n"
          ]
        }
      ]
    },
    {
      "cell_type": "markdown",
      "source": [
        "Optimizing model Parameters"
      ],
      "metadata": {
        "id": "o1RyzHThzwdF"
      }
    },
    {
      "cell_type": "code",
      "source": [
        "loss_fn = nn.CrossEntropyLoss()\n",
        "optimizer = torch.optim.SGD(model.parameters(), lr=1e-3)"
      ],
      "metadata": {
        "id": "a-l3ZvtAx7r-"
      },
      "execution_count": 24,
      "outputs": []
    },
    {
      "cell_type": "code",
      "source": [
        "def train(dataloader, model, loss_fn, optimizer):\n",
        "  size=len(dataloader.dataset)\n",
        "  model.train()\n",
        "  for batch, (X,y) in enumerate(dataloader):\n",
        "    X, y= X.to(device), y.to(device)\n",
        "\n",
        "    # compute prediction error\n",
        "    pred = model(X)\n",
        "    loss= loss_fn(pred, y)\n",
        "\n",
        "    #Backpropagation\n",
        "    loss.backward()\n",
        "    optimizer.step()\n",
        "    optimizer.zero_grad()\n",
        "\n",
        "    if batch %100 ==0:\n",
        "      loss, current = loss.item(), (batch+1) * len(X)\n",
        "      print(f\"loss: {loss:>7f} [{current:>5d}/{size:>5d}]\")\n",
        ""
      ],
      "metadata": {
        "id": "E2DU8nVU29S5"
      },
      "execution_count": 25,
      "outputs": []
    },
    {
      "cell_type": "markdown",
      "source": [
        "Test"
      ],
      "metadata": {
        "id": "ItQDa1SW4f_x"
      }
    },
    {
      "cell_type": "code",
      "source": [
        "def test(dataloader, model, loss_fn):\n",
        "  size = len(dataloader.dataset)\n",
        "  num_batches= len(dataloader)\n",
        "  model.eval()\n",
        "  test_loss, correct= 0,0\n",
        "  with torch.no_grad():\n",
        "    for X,y in dataloader:\n",
        "      X, y = X.to(device), y.to(device)\n",
        "      pred= model(X)\n",
        "      test_loss += loss_fn(pred,y).item()\n",
        "      correct += (pred.argmax(1) ==y).type(torch.float).sum().item()\n",
        "  test_loss /= num_batches\n",
        "  correct /= size\n",
        "  print(f\"Test Error: \\n Accuracy: {(100*correct):>0.1f}%, Avg loss: {test_loss:>8f}\\n\")"
      ],
      "metadata": {
        "id": "pwXhEQUi4Bqe"
      },
      "execution_count": 28,
      "outputs": []
    },
    {
      "cell_type": "code",
      "source": [
        "epochs= 5\n",
        "for t in range(epochs):\n",
        "  print(f\"Epoch {t+1}\\n...................\")\n",
        "  train(train_dataloader, model, loss_fn, optimizer)\n",
        "  test(test_dataloader, model, loss_fn)\n",
        "print(\"Done\")"
      ],
      "metadata": {
        "colab": {
          "base_uri": "https://localhost:8080/"
        },
        "id": "FtDSal-L6Xk1",
        "outputId": "ddf9ce98-8819-42c3-ec28-de7703118ba4"
      },
      "execution_count": 29,
      "outputs": [
        {
          "output_type": "stream",
          "name": "stdout",
          "text": [
            "Epoch 1\n",
            "...................\n",
            "loss: 2.147064 [   64/60000]\n",
            "loss: 2.131289 [ 6464/60000]\n",
            "loss: 2.068712 [12864/60000]\n",
            "loss: 2.094757 [19264/60000]\n",
            "loss: 2.029883 [25664/60000]\n",
            "loss: 1.970895 [32064/60000]\n",
            "loss: 2.000089 [38464/60000]\n",
            "loss: 1.909558 [44864/60000]\n",
            "loss: 1.911184 [51264/60000]\n",
            "loss: 1.841569 [57664/60000]\n",
            "Test Error: \n",
            " Accuracy: 58.0%, Avg loss: 1.841219\n",
            "\n",
            "Epoch 2\n",
            "...................\n",
            "loss: 1.874852 [   64/60000]\n",
            "loss: 1.837130 [ 6464/60000]\n",
            "loss: 1.720132 [12864/60000]\n",
            "loss: 1.767524 [19264/60000]\n",
            "loss: 1.651612 [25664/60000]\n",
            "loss: 1.615904 [32064/60000]\n",
            "loss: 1.628354 [38464/60000]\n",
            "loss: 1.535762 [44864/60000]\n",
            "loss: 1.555570 [51264/60000]\n",
            "loss: 1.454132 [57664/60000]\n",
            "Test Error: \n",
            " Accuracy: 61.3%, Avg loss: 1.481673\n",
            "\n",
            "Epoch 3\n",
            "...................\n",
            "loss: 1.552251 [   64/60000]\n",
            "loss: 1.515442 [ 6464/60000]\n",
            "loss: 1.370027 [12864/60000]\n",
            "loss: 1.445609 [19264/60000]\n",
            "loss: 1.323597 [25664/60000]\n",
            "loss: 1.333699 [32064/60000]\n",
            "loss: 1.336466 [38464/60000]\n",
            "loss: 1.270385 [44864/60000]\n",
            "loss: 1.299087 [51264/60000]\n",
            "loss: 1.206392 [57664/60000]\n",
            "Test Error: \n",
            " Accuracy: 62.4%, Avg loss: 1.237718\n",
            "\n",
            "Epoch 4\n",
            "...................\n",
            "loss: 1.318361 [   64/60000]\n",
            "loss: 1.296026 [ 6464/60000]\n",
            "loss: 1.134396 [12864/60000]\n",
            "loss: 1.243635 [19264/60000]\n",
            "loss: 1.112666 [25664/60000]\n",
            "loss: 1.149953 [32064/60000]\n",
            "loss: 1.160148 [38464/60000]\n",
            "loss: 1.105754 [44864/60000]\n",
            "loss: 1.138545 [51264/60000]\n",
            "loss: 1.061081 [57664/60000]\n",
            "Test Error: \n",
            " Accuracy: 63.8%, Avg loss: 1.085945\n",
            "\n",
            "Epoch 5\n",
            "...................\n",
            "loss: 1.161799 [   64/60000]\n",
            "loss: 1.157214 [ 6464/60000]\n",
            "loss: 0.978973 [12864/60000]\n",
            "loss: 1.115836 [19264/60000]\n",
            "loss: 0.982957 [25664/60000]\n",
            "loss: 1.025636 [32064/60000]\n",
            "loss: 1.050731 [38464/60000]\n",
            "loss: 1.000228 [44864/60000]\n",
            "loss: 1.031416 [51264/60000]\n",
            "loss: 0.969521 [57664/60000]\n",
            "Test Error: \n",
            " Accuracy: 65.3%, Avg loss: 0.986580\n",
            "\n",
            "Done\n"
          ]
        }
      ]
    },
    {
      "cell_type": "code",
      "source": [
        "torch.save(model.state_dict(), \"model.pth\")\n",
        "print(\"save Pytorch Model state to model.pth\")"
      ],
      "metadata": {
        "colab": {
          "base_uri": "https://localhost:8080/"
        },
        "id": "LGcwkmNn69Jc",
        "outputId": "f93fac6b-dd65-41c2-c6a1-461e1b32b8ca"
      },
      "execution_count": 31,
      "outputs": [
        {
          "output_type": "stream",
          "name": "stdout",
          "text": [
            "save Pytorch Model state to model.pth\n"
          ]
        }
      ]
    },
    {
      "cell_type": "code",
      "source": [
        "model = NeuralNetwork().to(device)\n",
        "model.load_state_dict(torch.load(\"model.pth\", weights_only=True))"
      ],
      "metadata": {
        "colab": {
          "base_uri": "https://localhost:8080/"
        },
        "id": "ziSIueBy7iwT",
        "outputId": "5788476a-2c5c-4704-bf55-ff681566c7c5"
      },
      "execution_count": 32,
      "outputs": [
        {
          "output_type": "execute_result",
          "data": {
            "text/plain": [
              "<All keys matched successfully>"
            ]
          },
          "metadata": {},
          "execution_count": 32
        }
      ]
    },
    {
      "cell_type": "code",
      "source": [
        "classes = [\n",
        "    \"T=shirt/top\",\n",
        "    \"Trouser\",\n",
        "    \"Pullover\",\n",
        "    \"Dress\",\n",
        "    \"Coat\",\n",
        "    \"Sandal\",\n",
        "    \"Shirt\",\n",
        "    \"Sneaker\",\n",
        "    \"Bag\",\n",
        "    \"Ankle boot\",\n",
        "]\n",
        "\n",
        "model.eval()\n",
        "x,y = test_data[0][0], test_data[0][1]\n",
        "with torch.no_grad():\n",
        "  x = x.to(device)\n",
        "  pred = model(x)\n",
        "  predicted, actual = classes[pred[0].argmax(0)], classes[y]\n",
        "  print(f\"Predicted: '{predicted}', Acutal: '{actual}'\")\n",
        ""
      ],
      "metadata": {
        "colab": {
          "base_uri": "https://localhost:8080/"
        },
        "id": "aUHmGkgh7xa6",
        "outputId": "cb03a685-66b9-416a-d87a-efb4e5e6fc31"
      },
      "execution_count": 33,
      "outputs": [
        {
          "output_type": "stream",
          "name": "stdout",
          "text": [
            "Predicted: 'Ankle boot', Acutal: 'Ankle boot'\n"
          ]
        }
      ]
    },
    {
      "cell_type": "code",
      "source": [],
      "metadata": {
        "id": "O4GObDzM8wB6"
      },
      "execution_count": null,
      "outputs": []
    }
  ]
}