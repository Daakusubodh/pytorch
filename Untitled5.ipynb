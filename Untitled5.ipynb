{
  "nbformat": 4,
  "nbformat_minor": 0,
  "metadata": {
    "colab": {
      "provenance": []
    },
    "kernelspec": {
      "name": "python3",
      "display_name": "Python 3"
    },
    "language_info": {
      "name": "python"
    }
  },
  "cells": [
    {
      "cell_type": "code",
      "execution_count": 4,
      "metadata": {
        "colab": {
          "base_uri": "https://localhost:8080/"
        },
        "id": "IOtz3hu3mCzC",
        "outputId": "7607cedf-fa9a-4e0d-b677-9bfda0cd62b9"
      },
      "outputs": [
        {
          "output_type": "execute_result",
          "data": {
            "text/plain": [
              "tensor([[[-9.3500e-01,  1.9599e-01, -3.4109e-01,  1.0685e+00, -8.9354e-03,\n",
              "          -8.3013e-01,  2.9378e-01, -8.2794e-01],\n",
              "         [-9.0437e-01, -1.4606e+00, -2.4075e-01,  1.2936e+00,  2.2440e-01,\n",
              "          -7.2450e-01, -4.8819e-01, -7.4898e-01],\n",
              "         [-8.7458e-01, -1.4925e+00, -2.0541e-01,  1.3033e+00,  1.7589e-01,\n",
              "          -7.4130e-01, -5.0173e-01, -7.0077e-01]],\n",
              "\n",
              "        [[-5.8305e-02, -3.2606e-01, -4.5792e-01,  1.0001e+00,  1.7785e-01,\n",
              "           3.2632e-01, -2.3768e-01,  7.3600e-01],\n",
              "         [-1.3860e-01,  5.3047e-04, -1.4880e+00,  1.3368e+00, -4.8750e-01,\n",
              "          -3.0522e-03, -3.1842e-01,  1.3984e+00],\n",
              "         [-1.7675e-01, -9.2776e-02, -1.5501e+00,  1.3010e+00, -6.1707e-01,\n",
              "          -2.0108e-01, -2.0598e-01,  1.4323e+00]]])"
            ]
          },
          "metadata": {},
          "execution_count": 4
        }
      ],
      "source": [
        "import torch\n",
        "import torch.nn as nn\n",
        "import torch.nn.functional as F\n",
        "device = \"cuda\" if torch.cuda.is_available() else \"cpu\"\n",
        "\n",
        "\n",
        "query, key, value = torch.randn(2, 3, 8, device=device), torch.randn(2, 3, 8, device=device), torch.randn(2, 3, 8, device=device)\n",
        "F.scaled_dot_product_attention(query, key, value)"
      ]
    },
    {
      "cell_type": "code",
      "source": [],
      "metadata": {
        "id": "VVQ0f7f4o6cp"
      },
      "execution_count": null,
      "outputs": []
    }
  ]
}